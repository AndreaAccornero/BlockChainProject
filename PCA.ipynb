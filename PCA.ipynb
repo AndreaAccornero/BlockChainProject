{
 "cells": [
  {
   "cell_type": "code",
   "execution_count": 23,
   "id": "initial_id",
   "metadata": {
    "collapsed": true,
    "ExecuteTime": {
     "end_time": "2024-01-25T15:51:51.318483Z",
     "start_time": "2024-01-25T15:51:45.395960Z"
    }
   },
   "outputs": [
    {
     "name": "stdout",
     "output_type": "stream",
     "text": [
      "<class 'pandas.core.frame.DataFrame'>\n",
      "RangeIndex: 203768 entries, 0 to 203767\n",
      "Columns: 167 entries, 230425980 to -0.11979245961251665\n",
      "dtypes: float64(165), int64(2)\n",
      "memory usage: 259.6 MB\n"
     ]
    }
   ],
   "source": [
    "import pandas as pd\n",
    "import numpy as np\n",
    "\n",
    "df_features = pd.read_csv(\"elliptic_txs_features.csv\")\n",
    "df_features.info()\n"
   ]
  },
  {
   "cell_type": "code",
   "outputs": [
    {
     "name": "stdout",
     "output_type": "stream",
     "text": [
      "<class 'pandas.core.frame.DataFrame'>\n",
      "RangeIndex: 203768 entries, 0 to 203767\n",
      "Data columns (total 2 columns):\n",
      " #   Column     Non-Null Count   Dtype \n",
      "---  ------     --------------   ----- \n",
      " 0   230425980  203768 non-null  int64 \n",
      " 1   unknown    203768 non-null  object\n",
      "dtypes: int64(1), object(1)\n",
      "memory usage: 3.1+ MB\n"
     ]
    },
    {
     "data": {
      "text/plain": "0         unknown\n1         unknown\n2               2\n3         unknown\n4         unknown\n           ...   \n203763    unknown\n203764    unknown\n203765          1\n203766    unknown\n203767    unknown\nName: unknown, Length: 203768, dtype: object"
     },
     "execution_count": 24,
     "metadata": {},
     "output_type": "execute_result"
    }
   ],
   "source": [
    "df_classes = pd.read_csv(\"elliptic_txs_classes.csv\")\n",
    "df_classes.info()\n",
    "\n",
    "Y = df_classes.iloc[:, 1]\n",
    "\n",
    "Y\n",
    "\n"
   ],
   "metadata": {
    "collapsed": false,
    "ExecuteTime": {
     "end_time": "2024-01-25T15:51:51.413900Z",
     "start_time": "2024-01-25T15:51:51.317885Z"
    }
   },
   "id": "f4bc1f727fd3d4f0",
   "execution_count": 24
  },
  {
   "cell_type": "code",
   "outputs": [
    {
     "name": "stdout",
     "output_type": "stream",
     "text": [
      "Explained variation per principal component: [0.60262641 0.04367315 0.02329903 0.01916615 0.01692416 0.01640803\n",
      " 0.01517122 0.01256614 0.01168211 0.01119414]\n"
     ]
    }
   ],
   "source": [
    "from sklearn.preprocessing import StandardScaler\n",
    "\n",
    "# Estrai le feature (X) dal DataFrame\n",
    "X = df_features.iloc[:, 1:]\n",
    "\n",
    "# Standardizza le feature (importante per la PCA)\n",
    "X_standardized = StandardScaler().fit_transform(X)\n",
    "\n",
    "\n",
    "from sklearn.decomposition import PCA\n",
    "pca = PCA(n_components=10)\n",
    "X_pca = pca.fit_transform(X)\n",
    "\n",
    "TMP = pd.DataFrame(data = X_pca)\n",
    "\n",
    "\n",
    "print('Explained variation per principal component: {}'.format(pca.explained_variance_ratio_))\n"
   ],
   "metadata": {
    "collapsed": false,
    "ExecuteTime": {
     "end_time": "2024-01-25T15:53:15.625279Z",
     "start_time": "2024-01-25T15:53:01.219890Z"
    }
   },
   "id": "67f6e30fc56d8be2",
   "execution_count": 27
  },
  {
   "cell_type": "code",
   "outputs": [],
   "source": [],
   "metadata": {
    "collapsed": false,
    "ExecuteTime": {
     "start_time": "2024-01-25T15:51:56.124878Z"
    }
   },
   "id": "41e4e1b03626271f"
  }
 ],
 "metadata": {
  "kernelspec": {
   "display_name": "Python 3",
   "language": "python",
   "name": "python3"
  },
  "language_info": {
   "codemirror_mode": {
    "name": "ipython",
    "version": 2
   },
   "file_extension": ".py",
   "mimetype": "text/x-python",
   "name": "python",
   "nbconvert_exporter": "python",
   "pygments_lexer": "ipython2",
   "version": "2.7.6"
  }
 },
 "nbformat": 4,
 "nbformat_minor": 5
}
