{
 "cells": [
  {
   "cell_type": "markdown",
   "id": "ef8eb14c0fda12cb",
   "metadata": {
    "collapsed": false
   },
   "source": [
    "Lettura DataSet"
   ]
  },
  {
   "cell_type": "code",
   "execution_count": null,
   "id": "170aa4abf83fe652",
   "metadata": {
    "ExecuteTime": {
     "end_time": "2024-01-25T15:54:06.247263Z",
     "start_time": "2024-01-25T15:53:59.256152Z"
    },
    "collapsed": false
   },
   "outputs": [],
   "source": [
    "import pandas as pd \n",
    "\n",
    "df_classes = pd.read_csv(\"elliptic_txs_classes.csv\")\n",
    "df_edgelist = pd.read_csv(\"elliptic_txs_edgelist.csv\")\n",
    "df_features = pd.read_csv(\"elliptic_txs_features.csv\")\n"
   ]
  },
  {
   "cell_type": "markdown",
   "id": "a5dad1957bba9bb5",
   "metadata": {
    "collapsed": false
   },
   "source": [
    "Rete "
   ]
  },
  {
   "cell_type": "code",
   "execution_count": null,
   "id": "efdcff5da6f08af",
   "metadata": {
    "ExecuteTime": {
     "end_time": "2024-01-25T16:11:36.296722Z",
     "start_time": "2024-01-25T15:54:06.244728Z"
    },
    "collapsed": false
   },
   "outputs": [],
   "source": [
    "import networkx as nx\n",
    "\n",
    "import matplotlib.pyplot as plt  # Solo se desideri visualizzare il grafico\n",
    "\n",
    "print(\"sono qui\")\n",
    "\n",
    "# Crea un grafo non diretto da edgelist\n",
    "G = nx.from_pandas_edgelist(df_edgelist, 'txId1', 'txId2')\n",
    "\n",
    "print(\"sono qui\")\n",
    "print(G)\n",
    "\n",
    "\n",
    "# Disegna il grafo\n",
    "pos = nx.spring_layout(G)  # Posiziona i nodi in modo che siano ben distribuiti\n",
    "\n",
    "# Disegna i nodi senza etichette\n",
    "nx.draw(G, pos, with_labels=False, node_size=20, node_color='red')\n",
    "\n",
    "# Disegna gli archi\n",
    "nx.draw_networkx_edges(G, pos, width=0.02, edge_color='gray')\n",
    "\n",
    "# Mostra il grafico\n",
    "plt.axis('off')  # Nasconde gli assi\n",
    "plt.show()"
   ]
  },
  {
   "cell_type": "code",
   "execution_count": null,
   "id": "29b66112dc2f7e58",
   "metadata": {
    "collapsed": false
   },
   "outputs": [],
   "source": []
  }
 ],
 "metadata": {
  "kernelspec": {
   "display_name": "Python 3",
   "language": "python",
   "name": "python3"
  },
  "language_info": {
   "codemirror_mode": {
    "name": "ipython",
    "version": 3
   },
   "file_extension": ".py",
   "mimetype": "text/x-python",
   "name": "python",
   "nbconvert_exporter": "python",
   "pygments_lexer": "ipython3",
   "version": "3.1.0"
  }
 },
 "nbformat": 4,
 "nbformat_minor": 5
}
