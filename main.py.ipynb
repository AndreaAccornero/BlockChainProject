{
 "cells": [
  {
   "cell_type": "markdown",
   "source": [
    "Lettura DataSet"
   ],
   "metadata": {
    "collapsed": false
   },
   "id": "ef8eb14c0fda12cb"
  },
  {
   "cell_type": "code",
   "outputs": [
    {
     "name": "stdout",
     "output_type": "stream",
     "text": [
      "<class 'pandas.core.frame.DataFrame'>\n",
      "RangeIndex: 203768 entries, 0 to 203767\n",
      "Columns: 167 entries, 230425980 to -0.11979245961251665\n",
      "dtypes: float64(165), int64(2)\n",
      "memory usage: 259.6 MB\n"
     ]
    }
   ],
   "source": [
    "import pandas as pd \n",
    "\n",
    "df_classes = pd.read_csv(\"elliptic_txs_classes.csv\")\n",
    "df_edgelist = pd.read_csv(\"elliptic_txs_edgelist.csv\")\n",
    "df_features = pd.read_csv(\"elliptic_txs_features.csv\")\n",
    "\n",
    "df_features.info()\n"
   ],
   "metadata": {
    "collapsed": false,
    "ExecuteTime": {
     "end_time": "2024-01-25T15:54:06.247263Z",
     "start_time": "2024-01-25T15:53:59.256152Z"
    }
   },
   "id": "170aa4abf83fe652",
   "execution_count": 1
  },
  {
   "cell_type": "markdown",
   "source": [
    "Rete "
   ],
   "metadata": {
    "collapsed": false
   },
   "id": "a5dad1957bba9bb5"
  },
  {
   "cell_type": "code",
   "outputs": [
    {
     "name": "stdout",
     "output_type": "stream",
     "text": [
      "sono qui\n",
      "sono qui\n",
      "Graph with 203769 nodes and 234355 edges\n"
     ]
    },
    {
     "ename": "KeyboardInterrupt",
     "evalue": "",
     "output_type": "error",
     "traceback": [
      "\u001B[0;31m---------------------------------------------------------------------------\u001B[0m",
      "\u001B[0;31mKeyboardInterrupt\u001B[0m                         Traceback (most recent call last)",
      "Cell \u001B[0;32mIn[2], line 15\u001B[0m\n\u001B[1;32m     11\u001B[0m \u001B[38;5;28mprint\u001B[39m(G)\n\u001B[1;32m     14\u001B[0m \u001B[38;5;66;03m# Disegna il grafo\u001B[39;00m\n\u001B[0;32m---> 15\u001B[0m pos \u001B[38;5;241m=\u001B[39m nx\u001B[38;5;241m.\u001B[39mspring_layout(G)  \u001B[38;5;66;03m# Posiziona i nodi in modo che siano ben distribuiti\u001B[39;00m\n\u001B[1;32m     17\u001B[0m \u001B[38;5;66;03m# Disegna i nodi senza etichette\u001B[39;00m\n\u001B[1;32m     18\u001B[0m nx\u001B[38;5;241m.\u001B[39mdraw(G, pos, with_labels\u001B[38;5;241m=\u001B[39m\u001B[38;5;28;01mFalse\u001B[39;00m, node_size\u001B[38;5;241m=\u001B[39m\u001B[38;5;241m20\u001B[39m, node_color\u001B[38;5;241m=\u001B[39m\u001B[38;5;124m'\u001B[39m\u001B[38;5;124mred\u001B[39m\u001B[38;5;124m'\u001B[39m)\n",
      "File \u001B[0;32m~/anaconda3/lib/python3.11/site-packages/networkx/utils/decorators.py:766\u001B[0m, in \u001B[0;36margmap.__call__.<locals>.func\u001B[0;34m(_argmap__wrapper, *args, **kwargs)\u001B[0m\n\u001B[1;32m    765\u001B[0m \u001B[38;5;28;01mdef\u001B[39;00m \u001B[38;5;21mfunc\u001B[39m(\u001B[38;5;241m*\u001B[39margs, __wrapper\u001B[38;5;241m=\u001B[39m\u001B[38;5;28;01mNone\u001B[39;00m, \u001B[38;5;241m*\u001B[39m\u001B[38;5;241m*\u001B[39mkwargs):\n\u001B[0;32m--> 766\u001B[0m     \u001B[38;5;28;01mreturn\u001B[39;00m argmap\u001B[38;5;241m.\u001B[39m_lazy_compile(__wrapper)(\u001B[38;5;241m*\u001B[39margs, \u001B[38;5;241m*\u001B[39m\u001B[38;5;241m*\u001B[39mkwargs)\n",
      "File \u001B[0;32m<class 'networkx.utils.decorators.argmap'> compilation 8:4\u001B[0m, in \u001B[0;36margmap_spring_layout_5\u001B[0;34m(G, k, pos, fixed, iterations, threshold, weight, scale, center, dim, seed)\u001B[0m\n\u001B[1;32m      2\u001B[0m \u001B[38;5;28;01mimport\u001B[39;00m \u001B[38;5;21;01mcollections\u001B[39;00m\n\u001B[1;32m      3\u001B[0m \u001B[38;5;28;01mimport\u001B[39;00m \u001B[38;5;21;01mgzip\u001B[39;00m\n\u001B[0;32m----> 4\u001B[0m \u001B[38;5;28;01mimport\u001B[39;00m \u001B[38;5;21;01minspect\u001B[39;00m\n\u001B[1;32m      5\u001B[0m \u001B[38;5;28;01mimport\u001B[39;00m \u001B[38;5;21;01mitertools\u001B[39;00m\n\u001B[1;32m      6\u001B[0m \u001B[38;5;28;01mimport\u001B[39;00m \u001B[38;5;21;01mre\u001B[39;00m\n",
      "File \u001B[0;32m~/anaconda3/lib/python3.11/site-packages/networkx/drawing/layout.py:482\u001B[0m, in \u001B[0;36mspring_layout\u001B[0;34m(G, k, pos, fixed, iterations, threshold, weight, scale, center, dim, seed)\u001B[0m\n\u001B[1;32m    480\u001B[0m         nnodes, _ \u001B[38;5;241m=\u001B[39m A\u001B[38;5;241m.\u001B[39mshape\n\u001B[1;32m    481\u001B[0m         k \u001B[38;5;241m=\u001B[39m dom_size \u001B[38;5;241m/\u001B[39m np\u001B[38;5;241m.\u001B[39msqrt(nnodes)\n\u001B[0;32m--> 482\u001B[0m     pos \u001B[38;5;241m=\u001B[39m _sparse_fruchterman_reingold(\n\u001B[1;32m    483\u001B[0m         A, k, pos_arr, fixed, iterations, threshold, dim, seed\n\u001B[1;32m    484\u001B[0m     )\n\u001B[1;32m    485\u001B[0m \u001B[38;5;28;01mexcept\u001B[39;00m \u001B[38;5;167;01mValueError\u001B[39;00m:\n\u001B[1;32m    486\u001B[0m     A \u001B[38;5;241m=\u001B[39m nx\u001B[38;5;241m.\u001B[39mto_numpy_array(G, weight\u001B[38;5;241m=\u001B[39mweight)\n",
      "File \u001B[0;32m~/anaconda3/lib/python3.11/site-packages/networkx/utils/decorators.py:766\u001B[0m, in \u001B[0;36margmap.__call__.<locals>.func\u001B[0;34m(_argmap__wrapper, *args, **kwargs)\u001B[0m\n\u001B[1;32m    765\u001B[0m \u001B[38;5;28;01mdef\u001B[39;00m \u001B[38;5;21mfunc\u001B[39m(\u001B[38;5;241m*\u001B[39margs, __wrapper\u001B[38;5;241m=\u001B[39m\u001B[38;5;28;01mNone\u001B[39;00m, \u001B[38;5;241m*\u001B[39m\u001B[38;5;241m*\u001B[39mkwargs):\n\u001B[0;32m--> 766\u001B[0m     \u001B[38;5;28;01mreturn\u001B[39;00m argmap\u001B[38;5;241m.\u001B[39m_lazy_compile(__wrapper)(\u001B[38;5;241m*\u001B[39margs, \u001B[38;5;241m*\u001B[39m\u001B[38;5;241m*\u001B[39mkwargs)\n",
      "File \u001B[0;32m<class 'networkx.utils.decorators.argmap'> compilation 12:4\u001B[0m, in \u001B[0;36margmap__sparse_fruchterman_reingold_9\u001B[0;34m(A, k, pos, fixed, iterations, threshold, dim, seed)\u001B[0m\n\u001B[1;32m      2\u001B[0m \u001B[38;5;28;01mimport\u001B[39;00m \u001B[38;5;21;01mcollections\u001B[39;00m\n\u001B[1;32m      3\u001B[0m \u001B[38;5;28;01mimport\u001B[39;00m \u001B[38;5;21;01mgzip\u001B[39;00m\n\u001B[0;32m----> 4\u001B[0m \u001B[38;5;28;01mimport\u001B[39;00m \u001B[38;5;21;01minspect\u001B[39;00m\n\u001B[1;32m      5\u001B[0m \u001B[38;5;28;01mimport\u001B[39;00m \u001B[38;5;21;01mitertools\u001B[39;00m\n\u001B[1;32m      6\u001B[0m \u001B[38;5;28;01mimport\u001B[39;00m \u001B[38;5;21;01mre\u001B[39;00m\n",
      "File \u001B[0;32m~/anaconda3/lib/python3.11/site-packages/networkx/drawing/layout.py:626\u001B[0m, in \u001B[0;36m_sparse_fruchterman_reingold\u001B[0;34m(A, k, pos, fixed, iterations, threshold, dim, seed)\u001B[0m\n\u001B[1;32m    622\u001B[0m     Ai \u001B[38;5;241m=\u001B[39m A\u001B[38;5;241m.\u001B[39mgetrowview(i)\u001B[38;5;241m.\u001B[39mtoarray()  \u001B[38;5;66;03m# TODO: revisit w/ sparse 1D container\u001B[39;00m\n\u001B[1;32m    623\u001B[0m     \u001B[38;5;66;03m# displacement \"force\"\u001B[39;00m\n\u001B[1;32m    624\u001B[0m     displacement[:, i] \u001B[38;5;241m+\u001B[39m\u001B[38;5;241m=\u001B[39m (\n\u001B[1;32m    625\u001B[0m         delta \u001B[38;5;241m*\u001B[39m (k \u001B[38;5;241m*\u001B[39m k \u001B[38;5;241m/\u001B[39m distance\u001B[38;5;241m*\u001B[39m\u001B[38;5;241m*\u001B[39m\u001B[38;5;241m2\u001B[39m \u001B[38;5;241m-\u001B[39m Ai \u001B[38;5;241m*\u001B[39m distance \u001B[38;5;241m/\u001B[39m k)\n\u001B[0;32m--> 626\u001B[0m     )\u001B[38;5;241m.\u001B[39msum(axis\u001B[38;5;241m=\u001B[39m\u001B[38;5;241m1\u001B[39m)\n\u001B[1;32m    627\u001B[0m \u001B[38;5;66;03m# update positions\u001B[39;00m\n\u001B[1;32m    628\u001B[0m length \u001B[38;5;241m=\u001B[39m np\u001B[38;5;241m.\u001B[39msqrt((displacement\u001B[38;5;241m*\u001B[39m\u001B[38;5;241m*\u001B[39m\u001B[38;5;241m2\u001B[39m)\u001B[38;5;241m.\u001B[39msum(axis\u001B[38;5;241m=\u001B[39m\u001B[38;5;241m0\u001B[39m))\n",
      "File \u001B[0;32m~/anaconda3/lib/python3.11/site-packages/numpy/core/_methods.py:47\u001B[0m, in \u001B[0;36m_sum\u001B[0;34m(a, axis, dtype, out, keepdims, initial, where)\u001B[0m\n\u001B[1;32m     43\u001B[0m \u001B[38;5;28;01mdef\u001B[39;00m \u001B[38;5;21m_amin\u001B[39m(a, axis\u001B[38;5;241m=\u001B[39m\u001B[38;5;28;01mNone\u001B[39;00m, out\u001B[38;5;241m=\u001B[39m\u001B[38;5;28;01mNone\u001B[39;00m, keepdims\u001B[38;5;241m=\u001B[39m\u001B[38;5;28;01mFalse\u001B[39;00m,\n\u001B[1;32m     44\u001B[0m           initial\u001B[38;5;241m=\u001B[39m_NoValue, where\u001B[38;5;241m=\u001B[39m\u001B[38;5;28;01mTrue\u001B[39;00m):\n\u001B[1;32m     45\u001B[0m     \u001B[38;5;28;01mreturn\u001B[39;00m umr_minimum(a, axis, \u001B[38;5;28;01mNone\u001B[39;00m, out, keepdims, initial, where)\n\u001B[0;32m---> 47\u001B[0m \u001B[38;5;28;01mdef\u001B[39;00m \u001B[38;5;21m_sum\u001B[39m(a, axis\u001B[38;5;241m=\u001B[39m\u001B[38;5;28;01mNone\u001B[39;00m, dtype\u001B[38;5;241m=\u001B[39m\u001B[38;5;28;01mNone\u001B[39;00m, out\u001B[38;5;241m=\u001B[39m\u001B[38;5;28;01mNone\u001B[39;00m, keepdims\u001B[38;5;241m=\u001B[39m\u001B[38;5;28;01mFalse\u001B[39;00m,\n\u001B[1;32m     48\u001B[0m          initial\u001B[38;5;241m=\u001B[39m_NoValue, where\u001B[38;5;241m=\u001B[39m\u001B[38;5;28;01mTrue\u001B[39;00m):\n\u001B[1;32m     49\u001B[0m     \u001B[38;5;28;01mreturn\u001B[39;00m umr_sum(a, axis, dtype, out, keepdims, initial, where)\n\u001B[1;32m     51\u001B[0m \u001B[38;5;28;01mdef\u001B[39;00m \u001B[38;5;21m_prod\u001B[39m(a, axis\u001B[38;5;241m=\u001B[39m\u001B[38;5;28;01mNone\u001B[39;00m, dtype\u001B[38;5;241m=\u001B[39m\u001B[38;5;28;01mNone\u001B[39;00m, out\u001B[38;5;241m=\u001B[39m\u001B[38;5;28;01mNone\u001B[39;00m, keepdims\u001B[38;5;241m=\u001B[39m\u001B[38;5;28;01mFalse\u001B[39;00m,\n\u001B[1;32m     52\u001B[0m           initial\u001B[38;5;241m=\u001B[39m_NoValue, where\u001B[38;5;241m=\u001B[39m\u001B[38;5;28;01mTrue\u001B[39;00m):\n",
      "\u001B[0;31mKeyboardInterrupt\u001B[0m: "
     ]
    }
   ],
   "source": [
    "import networkx as nx\n",
    "\n",
    "import matplotlib.pyplot as plt  # Solo se desideri visualizzare il grafico\n",
    "\n",
    "print(\"sono qui\")\n",
    "\n",
    "# Crea un grafo non diretto da edgelist\n",
    "G = nx.from_pandas_edgelist(df_edgelist, 'txId1', 'txId2')\n",
    "\n",
    "print(\"sono qui\")\n",
    "print(G)\n",
    "\n",
    "\n",
    "# Disegna il grafo\n",
    "pos = nx.spring_layout(G)  # Posiziona i nodi in modo che siano ben distribuiti\n",
    "\n",
    "# Disegna i nodi senza etichette\n",
    "nx.draw(G, pos, with_labels=False, node_size=20, node_color='red')\n",
    "\n",
    "# Disegna gli archi\n",
    "nx.draw_networkx_edges(G, pos, width=0.02, edge_color='gray')\n",
    "\n",
    "# Mostra il grafico\n",
    "plt.axis('off')  # Nasconde gli assi\n",
    "plt.show()"
   ],
   "metadata": {
    "collapsed": false,
    "ExecuteTime": {
     "end_time": "2024-01-25T16:11:36.296722Z",
     "start_time": "2024-01-25T15:54:06.244728Z"
    }
   },
   "id": "efdcff5da6f08af",
   "execution_count": 2
  },
  {
   "cell_type": "code",
   "outputs": [],
   "source": [],
   "metadata": {
    "collapsed": false
   },
   "id": "29b66112dc2f7e58"
  }
 ],
 "metadata": {
  "kernelspec": {
   "display_name": "Python 3",
   "language": "python",
   "name": "python3"
  },
  "language_info": {
   "codemirror_mode": {
    "name": "ipython",
    "version": 2
   },
   "file_extension": ".py",
   "mimetype": "text/x-python",
   "name": "python",
   "nbconvert_exporter": "python",
   "pygments_lexer": "ipython2",
   "version": "2.7.6"
  }
 },
 "nbformat": 4,
 "nbformat_minor": 5
}
