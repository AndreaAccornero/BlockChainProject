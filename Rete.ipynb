{
 "cells": [
  {
   "cell_type": "markdown",
   "id": "ef8eb14c0fda12cb",
   "metadata": {
    "collapsed": false
   },
   "source": [
    "Lettura DataSet"
   ]
  },
  {
   "cell_type": "code",
   "execution_count": 19,
   "id": "170aa4abf83fe652",
   "metadata": {
    "ExecuteTime": {
     "end_time": "2024-01-25T15:54:06.247263Z",
     "start_time": "2024-01-25T15:53:59.256152Z"
    },
    "collapsed": false
   },
   "outputs": [
    {
     "name": "stdout",
     "output_type": "stream",
     "text": [
      "              0    1         2         3         4          5         6    \\\n",
      "0       230425980    1 -0.171469 -0.184668 -1.201369  -0.121970 -0.043875   \n",
      "1         5530458    1 -0.171484 -0.184668 -1.201369  -0.121970 -0.043875   \n",
      "2       232022460    1 -0.172107 -0.184668 -1.201369  -0.121970 -0.043875   \n",
      "3       232438397    1  0.163054  1.963790 -0.646376  12.409294 -0.063725   \n",
      "4       230460314    1  1.011523 -0.081127 -1.201369   1.153668  0.333276   \n",
      "...           ...  ...       ...       ...       ...        ...       ...   \n",
      "203764  173077460   49 -0.145771 -0.163752  0.463609  -0.121970 -0.043875   \n",
      "203765  158577750   49 -0.165920 -0.123607  1.018602  -0.121970 -0.043875   \n",
      "203766  158375402   49 -0.172014 -0.078182  1.018602   0.028105 -0.043875   \n",
      "203767  158654197   49 -0.172842 -0.176622  1.018602  -0.121970 -0.043875   \n",
      "203768  157597225   49 -0.012037 -0.132276  0.463609  -0.121970 -0.043875   \n",
      "\n",
      "             7          8         9    ...       157       158       159  \\\n",
      "0      -0.113002  -0.061584 -0.162097  ... -0.562153 -0.600999  1.461330   \n",
      "1      -0.113002  -0.061584 -0.162112  ...  0.947382  0.673103 -0.979074   \n",
      "2      -0.113002  -0.061584 -0.162749  ...  0.670883  0.439728 -0.979074   \n",
      "3       9.782742  12.414558 -0.163645  ... -0.577099 -0.613614  0.241128   \n",
      "4       1.312656  -0.061584 -0.163523  ... -0.511871 -0.400422  0.517257   \n",
      "...          ...        ...       ...  ...       ...       ...       ...   \n",
      "203764 -0.113002  -0.061584 -0.135803  ... -0.577099 -0.613614  0.241128   \n",
      "203765 -0.113002  -0.061584 -0.156418  ...  0.162722  0.010822  1.461330   \n",
      "203766  0.054722  -0.061584 -0.163626  ...  1.261246  1.985050  1.461330   \n",
      "203767 -0.113002  -0.061584 -0.163501  ... -0.397749 -0.411776  1.461330   \n",
      "203768 -0.113002  -0.061584  0.001027  ... -0.577099 -0.613614  0.241128   \n",
      "\n",
      "             160       161       162       163       164       165       166  \n",
      "0       1.461369  0.018279 -0.087490 -0.131155 -0.097524 -0.120613 -0.119792  \n",
      "1      -0.978556  0.018279 -0.087490 -0.131155 -0.097524 -0.120613 -0.119792  \n",
      "2      -0.978556 -0.098889 -0.106715 -0.131155 -0.183671 -0.120613 -0.119792  \n",
      "3       0.241406  1.072793  0.085530 -0.131155  0.677799 -0.120613 -0.119792  \n",
      "4       0.579382  0.018279  0.277775  0.326394  1.293750  0.178136  0.179117  \n",
      "...          ...       ...       ...       ...       ...       ...       ...  \n",
      "203764  0.241406  0.018279 -0.087490 -0.131155 -0.097524 -0.120613 -0.119792  \n",
      "203765  1.461369 -0.098889 -0.087490 -0.084674 -0.140597 -1.760926 -1.760984  \n",
      "203766  1.461369  0.018279 -0.087490 -0.131155 -0.097524 -0.120613 -0.119792  \n",
      "203767  1.461369 -0.098889 -0.087490 -0.084674 -0.140597  1.519700  1.521399  \n",
      "203768  0.241406 -0.098889 -0.087490 -0.084674 -0.140597  1.519700  1.521399  \n",
      "\n",
      "[203769 rows x 167 columns]\n"
     ]
    }
   ],
   "source": [
    "import pandas as pd \n",
    "\n",
    "df_classes = pd.read_csv(\"elliptic_txs_classes.csv\")\n",
    "df_edgelist = pd.read_csv(\"elliptic_txs_edgelist.csv\")\n",
    "df_features = pd.read_csv(\"elliptic_txs_features.csv\",header=None)\n"
   ]
  },
  {
   "cell_type": "code",
   "execution_count": 20,
   "id": "0b373887",
   "metadata": {},
   "outputs": [
    {
     "name": "stdout",
     "output_type": "stream",
     "text": [
      "             txId class\n",
      "3       232438397     2\n",
      "9       232029206     2\n",
      "10      232344069     2\n",
      "11       27553029     2\n",
      "16        3881097     2\n",
      "...           ...   ...\n",
      "203752   80329479     2\n",
      "203754  158406298     2\n",
      "203759  158375075     1\n",
      "203763  147478192     2\n",
      "203766  158375402     1\n",
      "\n",
      "[46564 rows x 2 columns]\n",
      "            txId1      txId2\n",
      "5       232344069   27553029\n",
      "8         3881097  232457116\n",
      "15      232051089  232470704\n",
      "26      230473487    7089694\n",
      "33      231182296   14660781\n",
      "...           ...        ...\n",
      "234338  194020062   47521535\n",
      "234340  158574502  109383451\n",
      "234344  158594124  157631640\n",
      "234347  157631640   21644119\n",
      "234350  158365409  157930723\n",
      "\n",
      "[36624 rows x 2 columns]\n"
     ]
    }
   ],
   "source": [
    "\n",
    "df_classes = df_classes.loc[df_classes.iloc[:, 1] != 'unknown']\n",
    "\n",
    "# Ora df contiene solo le righe in cui il valore nella seconda colonna non è 'unknown'\n",
    "print(df_classes)\n",
    "\n",
    "nodi_da_mantenere = set(df_classes['txId'])\n",
    "\n",
    "df_edgelist = df_edgelist[df_edgelist['txId1'].isin(nodi_da_mantenere) & df_edgelist['txId2'].isin(nodi_da_mantenere)]\n"
   ]
  },
  {
   "cell_type": "markdown",
   "id": "a5dad1957bba9bb5",
   "metadata": {
    "collapsed": false
   },
   "source": [
    "Rete "
   ]
  },
  {
   "cell_type": "code",
   "execution_count": 21,
   "id": "efdcff5da6f08af",
   "metadata": {
    "ExecuteTime": {
     "end_time": "2024-01-25T16:11:36.296722Z",
     "start_time": "2024-01-25T15:54:06.244728Z"
    },
    "collapsed": false
   },
   "outputs": [
    {
     "name": "stdout",
     "output_type": "stream",
     "text": [
      "sono qui\n",
      "sono qui\n",
      "Graph with 203769 nodes and 234355 edges\n"
     ]
    },
    {
     "ename": "KeyboardInterrupt",
     "evalue": "",
     "output_type": "error",
     "traceback": [
      "\u001b[0;31m---------------------------------------------------------------------------\u001b[0m",
      "\u001b[0;31mKeyboardInterrupt\u001b[0m                         Traceback (most recent call last)",
      "Cell \u001b[0;32mIn[21], line 15\u001b[0m\n\u001b[1;32m     11\u001b[0m \u001b[38;5;28mprint\u001b[39m(G)\n\u001b[1;32m     14\u001b[0m \u001b[38;5;66;03m# Disegna il grafo\u001b[39;00m\n\u001b[0;32m---> 15\u001b[0m pos \u001b[38;5;241m=\u001b[39m nx\u001b[38;5;241m.\u001b[39mspring_layout(G)  \u001b[38;5;66;03m# Posiziona i nodi in modo che siano ben distribuiti\u001b[39;00m\n\u001b[1;32m     17\u001b[0m \u001b[38;5;66;03m# Disegna i nodi senza etichette\u001b[39;00m\n\u001b[1;32m     18\u001b[0m nx\u001b[38;5;241m.\u001b[39mdraw(G, pos, with_labels\u001b[38;5;241m=\u001b[39m\u001b[38;5;28;01mFalse\u001b[39;00m, node_size\u001b[38;5;241m=\u001b[39m\u001b[38;5;241m20\u001b[39m, node_color\u001b[38;5;241m=\u001b[39m\u001b[38;5;124m'\u001b[39m\u001b[38;5;124mred\u001b[39m\u001b[38;5;124m'\u001b[39m)\n",
      "File \u001b[0;32m~/anaconda3/lib/python3.11/site-packages/networkx/utils/decorators.py:766\u001b[0m, in \u001b[0;36margmap.__call__.<locals>.func\u001b[0;34m(_argmap__wrapper, *args, **kwargs)\u001b[0m\n\u001b[1;32m    765\u001b[0m \u001b[38;5;28;01mdef\u001b[39;00m \u001b[38;5;21mfunc\u001b[39m(\u001b[38;5;241m*\u001b[39margs, __wrapper\u001b[38;5;241m=\u001b[39m\u001b[38;5;28;01mNone\u001b[39;00m, \u001b[38;5;241m*\u001b[39m\u001b[38;5;241m*\u001b[39mkwargs):\n\u001b[0;32m--> 766\u001b[0m     \u001b[38;5;28;01mreturn\u001b[39;00m argmap\u001b[38;5;241m.\u001b[39m_lazy_compile(__wrapper)(\u001b[38;5;241m*\u001b[39margs, \u001b[38;5;241m*\u001b[39m\u001b[38;5;241m*\u001b[39mkwargs)\n",
      "File \u001b[0;32m<class 'networkx.utils.decorators.argmap'> compilation 8:4\u001b[0m, in \u001b[0;36margmap_spring_layout_5\u001b[0;34m(G, k, pos, fixed, iterations, threshold, weight, scale, center, dim, seed)\u001b[0m\n\u001b[1;32m      2\u001b[0m \u001b[38;5;28;01mimport\u001b[39;00m \u001b[38;5;21;01mcollections\u001b[39;00m\n\u001b[1;32m      3\u001b[0m \u001b[38;5;28;01mimport\u001b[39;00m \u001b[38;5;21;01mgzip\u001b[39;00m\n\u001b[0;32m----> 4\u001b[0m \u001b[38;5;28;01mimport\u001b[39;00m \u001b[38;5;21;01minspect\u001b[39;00m\n\u001b[1;32m      5\u001b[0m \u001b[38;5;28;01mimport\u001b[39;00m \u001b[38;5;21;01mitertools\u001b[39;00m\n\u001b[1;32m      6\u001b[0m \u001b[38;5;28;01mimport\u001b[39;00m \u001b[38;5;21;01mre\u001b[39;00m\n",
      "File \u001b[0;32m~/anaconda3/lib/python3.11/site-packages/networkx/drawing/layout.py:482\u001b[0m, in \u001b[0;36mspring_layout\u001b[0;34m(G, k, pos, fixed, iterations, threshold, weight, scale, center, dim, seed)\u001b[0m\n\u001b[1;32m    480\u001b[0m         nnodes, _ \u001b[38;5;241m=\u001b[39m A\u001b[38;5;241m.\u001b[39mshape\n\u001b[1;32m    481\u001b[0m         k \u001b[38;5;241m=\u001b[39m dom_size \u001b[38;5;241m/\u001b[39m np\u001b[38;5;241m.\u001b[39msqrt(nnodes)\n\u001b[0;32m--> 482\u001b[0m     pos \u001b[38;5;241m=\u001b[39m _sparse_fruchterman_reingold(\n\u001b[1;32m    483\u001b[0m         A, k, pos_arr, fixed, iterations, threshold, dim, seed\n\u001b[1;32m    484\u001b[0m     )\n\u001b[1;32m    485\u001b[0m \u001b[38;5;28;01mexcept\u001b[39;00m \u001b[38;5;167;01mValueError\u001b[39;00m:\n\u001b[1;32m    486\u001b[0m     A \u001b[38;5;241m=\u001b[39m nx\u001b[38;5;241m.\u001b[39mto_numpy_array(G, weight\u001b[38;5;241m=\u001b[39mweight)\n",
      "File \u001b[0;32m~/anaconda3/lib/python3.11/site-packages/networkx/utils/decorators.py:766\u001b[0m, in \u001b[0;36margmap.__call__.<locals>.func\u001b[0;34m(_argmap__wrapper, *args, **kwargs)\u001b[0m\n\u001b[1;32m    765\u001b[0m \u001b[38;5;28;01mdef\u001b[39;00m \u001b[38;5;21mfunc\u001b[39m(\u001b[38;5;241m*\u001b[39margs, __wrapper\u001b[38;5;241m=\u001b[39m\u001b[38;5;28;01mNone\u001b[39;00m, \u001b[38;5;241m*\u001b[39m\u001b[38;5;241m*\u001b[39mkwargs):\n\u001b[0;32m--> 766\u001b[0m     \u001b[38;5;28;01mreturn\u001b[39;00m argmap\u001b[38;5;241m.\u001b[39m_lazy_compile(__wrapper)(\u001b[38;5;241m*\u001b[39margs, \u001b[38;5;241m*\u001b[39m\u001b[38;5;241m*\u001b[39mkwargs)\n",
      "File \u001b[0;32m<class 'networkx.utils.decorators.argmap'> compilation 12:4\u001b[0m, in \u001b[0;36margmap__sparse_fruchterman_reingold_9\u001b[0;34m(A, k, pos, fixed, iterations, threshold, dim, seed)\u001b[0m\n\u001b[1;32m      2\u001b[0m \u001b[38;5;28;01mimport\u001b[39;00m \u001b[38;5;21;01mcollections\u001b[39;00m\n\u001b[1;32m      3\u001b[0m \u001b[38;5;28;01mimport\u001b[39;00m \u001b[38;5;21;01mgzip\u001b[39;00m\n\u001b[0;32m----> 4\u001b[0m \u001b[38;5;28;01mimport\u001b[39;00m \u001b[38;5;21;01minspect\u001b[39;00m\n\u001b[1;32m      5\u001b[0m \u001b[38;5;28;01mimport\u001b[39;00m \u001b[38;5;21;01mitertools\u001b[39;00m\n\u001b[1;32m      6\u001b[0m \u001b[38;5;28;01mimport\u001b[39;00m \u001b[38;5;21;01mre\u001b[39;00m\n",
      "File \u001b[0;32m~/anaconda3/lib/python3.11/site-packages/networkx/drawing/layout.py:618\u001b[0m, in \u001b[0;36m_sparse_fruchterman_reingold\u001b[0;34m(A, k, pos, fixed, iterations, threshold, dim, seed)\u001b[0m\n\u001b[1;32m    616\u001b[0m delta \u001b[38;5;241m=\u001b[39m (pos[i] \u001b[38;5;241m-\u001b[39m pos)\u001b[38;5;241m.\u001b[39mT\n\u001b[1;32m    617\u001b[0m \u001b[38;5;66;03m# distance between points\u001b[39;00m\n\u001b[0;32m--> 618\u001b[0m distance \u001b[38;5;241m=\u001b[39m np\u001b[38;5;241m.\u001b[39msqrt((delta\u001b[38;5;241m*\u001b[39m\u001b[38;5;241m*\u001b[39m\u001b[38;5;241m2\u001b[39m)\u001b[38;5;241m.\u001b[39msum(axis\u001b[38;5;241m=\u001b[39m\u001b[38;5;241m0\u001b[39m))\n\u001b[1;32m    619\u001b[0m \u001b[38;5;66;03m# enforce minimum distance of 0.01\u001b[39;00m\n\u001b[1;32m    620\u001b[0m distance \u001b[38;5;241m=\u001b[39m np\u001b[38;5;241m.\u001b[39mwhere(distance \u001b[38;5;241m<\u001b[39m \u001b[38;5;241m0.01\u001b[39m, \u001b[38;5;241m0.01\u001b[39m, distance)\n",
      "File \u001b[0;32m~/anaconda3/lib/python3.11/site-packages/numpy/core/_methods.py:49\u001b[0m, in \u001b[0;36m_sum\u001b[0;34m(a, axis, dtype, out, keepdims, initial, where)\u001b[0m\n\u001b[1;32m     47\u001b[0m \u001b[38;5;28;01mdef\u001b[39;00m \u001b[38;5;21m_sum\u001b[39m(a, axis\u001b[38;5;241m=\u001b[39m\u001b[38;5;28;01mNone\u001b[39;00m, dtype\u001b[38;5;241m=\u001b[39m\u001b[38;5;28;01mNone\u001b[39;00m, out\u001b[38;5;241m=\u001b[39m\u001b[38;5;28;01mNone\u001b[39;00m, keepdims\u001b[38;5;241m=\u001b[39m\u001b[38;5;28;01mFalse\u001b[39;00m,\n\u001b[1;32m     48\u001b[0m          initial\u001b[38;5;241m=\u001b[39m_NoValue, where\u001b[38;5;241m=\u001b[39m\u001b[38;5;28;01mTrue\u001b[39;00m):\n\u001b[0;32m---> 49\u001b[0m     \u001b[38;5;28;01mreturn\u001b[39;00m umr_sum(a, axis, dtype, out, keepdims, initial, where)\n",
      "\u001b[0;31mKeyboardInterrupt\u001b[0m: "
     ]
    }
   ],
   "source": [
    "import networkx as nx\n",
    "\n",
    "import matplotlib.pyplot as plt  # Solo se desideri visualizzare il grafico\n",
    "\n",
    "print(\"sono qui\")\n",
    "\n",
    "# Crea un grafo non diretto da edgelist\n",
    "G = nx.from_pandas_edgelist(df_edgelist, 'txId1', 'txId2')\n",
    "\n",
    "print(\"sono qui\")\n",
    "print(G)\n",
    "\n",
    "\n",
    "# Disegna il grafo\n",
    "pos = nx.spring_layout(G)  # Posiziona i nodi in modo che siano ben distribuiti\n",
    "\n",
    "# Disegna i nodi senza etichette\n",
    "nx.draw(G, pos, with_labels=False, node_size=20, node_color='red')\n",
    "\n",
    "# Disegna gli archi\n",
    "nx.draw_networkx_edges(G, pos, width=0.02, edge_color='gray')\n",
    "\n",
    "# Mostra il grafico\n",
    "plt.axis('off')  # Nasconde gli assi\n",
    "plt.show()"
   ]
  }
 ],
 "metadata": {
  "kernelspec": {
   "display_name": "Python 3",
   "language": "python",
   "name": "python3"
  },
  "language_info": {
   "codemirror_mode": {
    "name": "ipython",
    "version": 3
   },
   "file_extension": ".py",
   "mimetype": "text/x-python",
   "name": "python",
   "nbconvert_exporter": "python",
   "pygments_lexer": "ipython3",
   "version": "3.11.4"
  }
 },
 "nbformat": 4,
 "nbformat_minor": 5
}
