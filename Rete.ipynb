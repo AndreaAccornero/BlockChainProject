{
 "cells": [
  {
   "cell_type": "markdown",
   "id": "ef8eb14c0fda12cb",
   "metadata": {
    "collapsed": false
   },
   "source": [
    "Lettura DataSet"
   ]
  },
  {
   "cell_type": "code",
   "execution_count": 1,
   "id": "170aa4abf83fe652",
   "metadata": {
    "ExecuteTime": {
     "end_time": "2024-01-25T15:54:06.247263Z",
     "start_time": "2024-01-25T15:53:59.256152Z"
    },
    "collapsed": false
   },
   "outputs": [
    {
     "name": "stdout",
     "output_type": "stream",
     "text": [
      "<class 'pandas.core.frame.DataFrame'>\n",
      "RangeIndex: 203769 entries, 0 to 203768\n",
      "Columns: 167 entries, 0 to 166\n",
      "dtypes: float64(165), int64(2)\n",
      "memory usage: 259.6 MB\n"
     ]
    }
   ],
   "source": [
    "import warnings\n",
    "import torch\n",
    "import pandas as pd\n",
    "import utils as u\n",
    "import os\n",
    "from loader import load_data, data_to_pyg\n",
    "from train import train, test\n",
    "from models import models\n",
    "from argparse import ArgumentParser\n",
    "from models.custom_gat.model import GAT\n",
    "\n",
    "\n",
    "\n",
    "df_classes = pd.read_csv(\"elliptic_txs_classes.csv\")\n",
    "df_edgelist = pd.read_csv(\"elliptic_txs_edgelist.csv\")\n",
    "df_features = pd.read_csv(\"elliptic_txs_features.csv\",header=None)\n",
    "\n",
    "df_features.info()\n"
   ]
  },
  {
   "cell_type": "code",
   "execution_count": 2,
   "id": "0b373887",
   "metadata": {},
   "outputs": [
    {
     "data": {
      "text/plain": [
       "\" df_classes = df_classes.loc[df_classes.iloc[:, 1] != 'unknown']\\n\\nnodi_da_mantenere = set(df_classes['txId'])\\n\\ndf_edgelist = df_edgelist[df_edgelist['txId1'].isin(nodi_da_mantenere) & df_edgelist['txId2'].isin(nodi_da_mantenere)]\\n\\ndf_edgelist.to_csv('data/elliptic_txs_edgelist.csv', index=False)\\n\\nistanze_colonna = df_classes['class'].value_counts()\\n\\nprint(istanze_colonna) \""
      ]
     },
     "execution_count": 2,
     "metadata": {},
     "output_type": "execute_result"
    }
   ],
   "source": [
    "\n",
    "\"\"\" df_classes = df_classes.loc[df_classes.iloc[:, 1] != 'unknown']\n",
    "\n",
    "nodi_da_mantenere = set(df_classes['txId'])\n",
    "\n",
    "df_edgelist = df_edgelist[df_edgelist['txId1'].isin(nodi_da_mantenere) & df_edgelist['txId2'].isin(nodi_da_mantenere)]\n",
    "\n",
    "df_edgelist.to_csv('data/elliptic_txs_edgelist.csv', index=False)\n",
    "\n",
    "istanze_colonna = df_classes['class'].value_counts()\n",
    "\n",
    "print(istanze_colonna) \"\"\"\n",
    "\n"
   ]
  },
  {
   "cell_type": "markdown",
   "id": "a5dad1957bba9bb5",
   "metadata": {
    "collapsed": false
   },
   "source": [
    "Rete "
   ]
  },
  {
   "cell_type": "code",
   "execution_count": 3,
   "id": "efdcff5da6f08af",
   "metadata": {
    "ExecuteTime": {
     "end_time": "2024-01-25T16:11:36.296722Z",
     "start_time": "2024-01-25T15:54:06.244728Z"
    },
    "collapsed": false
   },
   "outputs": [
    {
     "name": "stdout",
     "output_type": "stream",
     "text": [
      "Graph with 203769 nodes and 234355 edges\n"
     ]
    }
   ],
   "source": [
    "import networkx as nx\n",
    "\n",
    "import matplotlib.pyplot as plt  # Solo se desideri visualizzare il grafico\n",
    "\n",
    "\n",
    "# Crea un grafo non diretto da edgelist\n",
    "G = nx.from_pandas_edgelist(df_edgelist, 'txId1', 'txId2')\n",
    "\n",
    "print(G)\n",
    "\n"
   ]
  },
  {
   "cell_type": "code",
   "execution_count": 4,
   "id": "33529d42",
   "metadata": {},
   "outputs": [],
   "source": [
    "import networkx as nx\n",
    "\n",
    "# MISURE DI CENTRALITA'\n",
    "\n",
    "# Calcola la centralità di grado per ogni nodo\n",
    "degree_centrality = nx.degree_centrality(G)\n",
    "\n",
    "# Calcola la closeness centrality per ogni nodo\n",
    "closeness_centrality = nx.closeness_centrality(G)\n",
    "\n",
    "# Calcola la betweenness centrality per ogni nodo\n",
    "betweenness_centrality = nx.betweenness_centrality(G)\n",
    "\n",
    "# Calcola la eigenvector centrality per ogni nodo\n",
    "eigenvector_centrality = nx.eigenvector_centrality(G)\n",
    "\n",
    "# Calcola la pagerank centrality per ogni nodo\n",
    "pagerank_centrality = nx.pagerank(G)\n",
    "\n",
    "# Calcola la harmonic centrality per ogni nodo\n",
    "harmonic_centrality = nx.harmonic_centrality(G)\n",
    "\n",
    "# MISURE DI CLUSTERING\n",
    "\n",
    "# Calcola il clustering coefficient per ogni nodo\n",
    "clustering_coefficient = nx.clustering(G)\n",
    "\n",
    "# Calcola il clustering coefficient per ogni nodo\n",
    "local_clustering_coefficient = nx.clustering(G)\n",
    "\n",
    "\n",
    "\n",
    "\n",
    "# Aggiungi il clustering coefficient come feature ai nodi\n",
    "\n",
    "nx.set_node_attributes(G, clustering_coefficient, 'clustering_coefficient')\n",
    "nx.set_node_attributes(G, local_clustering_coefficient, 'local_clustering_coefficient')\n",
    "nx.set_node_attributes(G, degree_centrality, 'degree_centrality')\n",
    "nx.set_node_attributes(G, closeness_centrality, 'closeness_centrality')\n",
    "nx.set_node_attributes(G, betweenness_centrality, 'betweenness_centrality')\n",
    "nx.set_node_attributes(G, eigenvector_centrality, 'eigenvector_centrality')\n",
    "nx.set_node_attributes(G, pagerank_centrality, 'pagerank_centrality')\n",
    "nx.set_node_attributes(G, harmonic_centrality, 'harmonic_centrality')\n",
    "\n"
   ]
  },
  {
   "cell_type": "code",
   "execution_count": 13,
   "id": "da6a8112",
   "metadata": {},
   "outputs": [],
   "source": [
    "import pandas as pd\n",
    "import networkx as nx\n",
    "\n",
    "# Supponiamo che tu abbia già creato il tuo grafo G\n",
    "\n",
    "# Estrai le features dai nodi\n",
    "node_data = {'txId': list(G.nodes),\n",
    "             'clustering_coefficient': list(nx.get_node_attributes(G, 'clustering_coefficient').values()),\n",
    "             'degree_centrality': list(nx.get_node_attributes(G, 'degree_centrality').values()),\n",
    "             'closeness_centrality': list(nx.get_node_attributes(G, 'closeness_centrality').values()),\n",
    "             'betweenness_centrality': list(nx.get_node_attributes(G, 'betweenness_centrality').values()),\n",
    "             'eigenvector_centrality': list(nx.get_node_attributes(G, 'eigenvector_centrality').values()),\n",
    "             'local_clustering_coefficient': list(nx.get_node_attributes(G, 'local_clustering_coefficient').values()),\n",
    "             'pagerank_centrality': list(nx.get_node_attributes(G, 'pagerank_centrality').values()),\n",
    "             'harmonic_centrality': list(nx.get_node_attributes(G, 'harmonic_centrality').values())\n",
    "             }\n",
    "\n",
    "# Crea il DataFrame pandas\n",
    "df_features_graph = pd.DataFrame(node_data)\n",
    "\n",
    "# Converti la colonna 'node_id' in int64\n",
    "df_features_graph['txId'] = df_features_graph['txId'].astype('int64')\n",
    "\n",
    "# Converti tutte le colonne numeriche tranne 'node_id' in float64\n",
    "numerical_columns = df_features_graph.columns.difference(['txId'])\n",
    "df_features_graph[numerical_columns] = df_features_graph[numerical_columns].astype('float64')\n",
    "\n",
    "# Salva il DataFrame nella cartella corrente in formato CSV\n",
    "df_features_graph.to_csv('data/elliptic_txs_features.csv', index=False)\n",
    "\n",
    "    \n",
    "\"\"\" df_classes = df_classes[df_classes['txId'].isin(nodi_da_mantenere)]\n",
    "\n",
    "txId_comuni = df_features_graph['txId'].isin(df_classes['txId'])\n",
    "\n",
    "df_classes = df_classes[df_classes['txId'].isin(df_features_graph['txId'])]\n",
    "\n",
    "df_classes = df_classes.reset_index(drop=True)\n",
    "\n",
    "\"\"\"\n",
    "\n",
    "df_classes.to_csv('data/elliptic_txs_classes.csv', index=False) \n",
    "df_edgelist.to_csv('data/elliptic_txs_edgelist.csv', index=False)\n"
   ]
  }
 ],
 "metadata": {
  "kernelspec": {
   "display_name": "Python 3",
   "language": "python",
   "name": "python3"
  },
  "language_info": {
   "codemirror_mode": {
    "name": "ipython",
    "version": 3
   },
   "file_extension": ".py",
   "mimetype": "text/x-python",
   "name": "python",
   "nbconvert_exporter": "python",
   "pygments_lexer": "ipython3",
   "version": "3.11.4"
  }
 },
 "nbformat": 4,
 "nbformat_minor": 5
}
